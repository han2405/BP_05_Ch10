{
  "nbformat": 4,
  "nbformat_minor": 0,
  "metadata": {
    "colab": {
      "provenance": [],
      "authorship_tag": "ABX9TyPkfXth5nX7gQRLdeVwyXpq",
      "include_colab_link": true
    },
    "kernelspec": {
      "name": "python3",
      "display_name": "Python 3"
    },
    "language_info": {
      "name": "python"
    }
  },
  "cells": [
    {
      "cell_type": "markdown",
      "metadata": {
        "id": "view-in-github",
        "colab_type": "text"
      },
      "source": [
        "<a href=\"https://colab.research.google.com/github/han2405/BP_05_Ch10/blob/main/BP_05_EX_Ch10.ipynb\" target=\"_parent\"><img src=\"https://colab.research.google.com/assets/colab-badge.svg\" alt=\"Open In Colab\"/></a>"
      ]
    },
    {
      "cell_type": "markdown",
      "source": [
        "<pre> 1번 다음과 같이 하나의 레이블과 2개의 버튼을 가지는 프로그램을 작성해보자."
      ],
      "metadata": {
        "id": "6149UH8tkati"
      }
    },
    {
      "cell_type": "code",
      "source": [
        "from tkinter import Tk, Label, Button\n",
        "\n",
        "def greet():\n",
        "  print(\"파이썬에 오신 것을 환영합니다.\")\n",
        "\n",
        "window=Tk()\n",
        "label=Label(window, text= \"간단한 GUI 프로그램!\")\n",
        "label.pack()\n",
        "\n",
        "greet_button=Button(window, text= \"환영합니다.\" , command=greet)\n",
        "greet_button.pack()\n",
        "\n",
        "close_button=Button(window, text=\"종료.\", command=window.quit)\n",
        "close_button.pack()\n",
        "\n",
        "window.mainloop() \n",
        "\n",
        "    #자룡형 캐릭터 스트링 스티링으로 전부 쓰긴 함 캐릭터형 한 단어만 쓰겠다 스트링은 여러개 가능 아 음)\n",
        "    # 10장 어려운데?? 먼저 메모장에 리스트 저장한 다음에 코드 실행해야 하는듯"
      ],
      "metadata": {
        "id": "JNGNu7XZVqS3"
      },
      "execution_count": null,
      "outputs": []
    },
    {
      "cell_type": "markdown",
      "source": [
        "<pre> 2번 숫자를 입력하고 \"더하기\" 버튼을 누르면 합계에 더해지고 \"빼기\" 버튼을 누르면 합계에서 빼지는 계산기를 작성하여 본다."
      ],
      "metadata": {
        "id": "9-KQ2gd8s31u"
      }
    },
    {
      "cell_type": "code",
      "source": [
        "from tkinter import Tk, Label, Button, Entry, IntVar, END, W, E\n",
        "\n",
        "def update_add():\n",
        "  update(\"add\")=\"\"\n",
        "\n",
        "def update_subtract():\n",
        "  update(\"subtract\")\n",
        "\n",
        "def update_reset():\n",
        "  update(\"reset\")\n",
        "\n",
        "window=Tk()\n",
        "total=0\n",
        "sum=Label(window)\n",
        "sum.grid(row=0, column=1, coiumns=2) \n",
        "\n",
        "label= Label(window, text=\"현재 합계: \")\n",
        "label.grid(row=0, column=0)\n",
        "\n",
        "entry=Entry(window)\n",
        "entry.grid(row=1, column=0, columnspan=3)\n",
        "\n",
        "add_button=Button(window, text=\"더하기(+)\", command=update_add)\n",
        "substract_button=Button(window, text=\"빼기(-)\", command=update_subtract)\n",
        "reset_button=Button(window, text=\"초기화\", command=update_reset)\n",
        "\n",
        "add_button.grid(row=2,column=0)\n",
        "substract_button.grid(row=2, column=1)\n",
        "reset_button.grid(row=2, column=2)\n",
        "\n",
        "def update(method):\n",
        "  global total\n",
        "  if method ==\"add\":\n",
        "      total+=int(entry.get())\n",
        "  elif method == \"substract\":\n",
        "    total-= int(entry.get())\n",
        "  else:\n",
        "    total=0\n",
        "  sum['text']=str(total)\n",
        "  entry.delete(),END)\n",
        "\n",
        "window.mainloop()"
      ],
      "metadata": {
        "id": "8aR-_70HVt5P"
      },
      "execution_count": null,
      "outputs": []
    },
    {
      "cell_type": "markdown",
      "source": [
        "<pre> 3번 우리가 앞에서 텍스트 버전을 제작하였던 숫자 맞추기 게임을 그래픽 사용자 인터페이스 버전으로 작성해보자."
      ],
      "metadata": {
        "id": "P5wblvxqtL1O"
      }
    },
    {
      "cell_type": "code",
      "source": [
        "import random\n",
        "from tkinter import*\n",
        "\n",
        "window=Tk()\n",
        "secret_number=random.randint(1,100)\n",
        "guess=None\n",
        "num_guesses=0\n",
        "\n",
        "def guess_number():\n",
        "  global num_guesses\n",
        "  guess=int(entry.get())\n",
        "  num_guesses+=1\n",
        "  if guess==secret_number:\n",
        "    Message=\"축하합니다.\"\n",
        "  elif guess<secret_number:\n",
        "    Message=\"너무 낮아요!\"\n",
        "  else:\n",
        "    Message=\"너무 높아요!\"\n",
        "  label['text']=Message\n",
        "\n",
        "def reset():\n",
        "  global num_guesses\n",
        "  entry.delete(0, END)\n",
        "  secret_number=random.randint(1,100)\n",
        "  guess=0\n",
        "  num_guess=0\n",
        "  message=\"1부터 100 사이의 숫자를 추측하시오.\"\n",
        "  label['text']=message\n",
        "\n",
        "message=\"1부터 100 사이의 숫자를 추측하시오. \" #왜 또 다시?\n",
        "label=Label(window, text=message)\n",
        "entry=Entry(window)\n",
        "\n",
        "guess_button=Button(window, text=\"숫자를 입력\", command=guess_number)\n",
        "reset_button=Button(window, text=\"게임을 재실행\", command=reset)\n",
        "\n",
        "label.grid(row=0, column=0, columnspan=2, sticky=W+E)\n",
        "entry.grid(row=1, column=0, columnspan=2, sticky=W+E)\n",
        "guess_button.grid(row=2, column=0)\n",
        "reset_button.grid(row=2, column=1)\n",
        "\n",
        "window.mainloop()"
      ],
      "metadata": {
        "id": "NY7-khQGVuzp"
      },
      "execution_count": null,
      "outputs": []
    },
    {
      "cell_type": "markdown",
      "source": [
        "<pre> 4번 인치를 센티미터로 변환하는 다음과 같은 프로그램을 작성해보자."
      ],
      "metadata": {
        "id": "ESQf4U5ItY1v"
      }
    },
    {
      "cell_type": "code",
      "source": [
        "from tkinter import*\n",
        "\n",
        "def do_comvert():\n",
        "  inch_val=float(cvt_from.get())\n",
        "  centimeters_val=inch_val*2.54\n",
        "  cvt_to.set('%s센티미터'% centimeters_val)\n",
        "\n",
        "root=Tk()\n",
        "cvt_from=StringVar()\n",
        "cvt_to=StringVar()\n",
        "\n",
        "lbl=Label(root, text='인치를 센티미터로 변환하는 프로그램: ')\n",
        "lbl.grid(row=0, column=0, columnspan=2)\n",
        "from_lbl=Label(root, text='인치를 입력하시오. :')\n",
        "from_lbl.grid(row=1, column=0)\n",
        "from_entry=Entry(root, textvarible=cvt_from)\n",
        "from_entry.grid(row=1, column=1)\n",
        "\n",
        "to_lbl=Label(root, text='변환 결과: ')\n",
        "to_lbl.grid(row=2, column=1)\n",
        "result_lbl+Label(root,\n",
        "                 textvariable=cvt_to)\n",
        "result_lbl.grid(row=2, column=1)\n",
        "\n",
        "convert_btn=Button(root,\n",
        "                   text='변환!', command=do_convert)\n",
        "covert_btn.grid(rrow=3, column=1)\n",
        "root.mainloop()\n"
      ],
      "metadata": {
        "id": "F2JhHcAGVvzn"
      },
      "execution_count": null,
      "outputs": []
    },
    {
      "cell_type": "markdown",
      "source": [
        "<pre> 5번 데이터를 입력받을 때 사용할 수 있는 다음과 같은 애플리케이션을 작성해보자."
      ],
      "metadata": {
        "id": "nHcyOZkStf_O"
      }
    },
    {
      "cell_type": "code",
      "source": [
        "from tKinter import*\n",
        "fields='이름', '직업', '국적'\n",
        "\n",
        "def fetch(entries):\n",
        "  for entry in entries:\n",
        "    field=entry[0]\n",
        "    text=entry[1].get()\n",
        "    print('%s: \"%s\"' %(field, text))\n",
        "\n",
        "def makeform(root, fields):\n",
        "  entries=[]\n",
        "  for field in fields:\n",
        "    row=Frame(root)\n",
        "    lab=Label(row, width=15, text=field)\n",
        "    ent=Entry(row)\n",
        "    row.pack(side=TOP, fill=X)\n",
        "    lab.pack(side=LEFT)\n",
        "    ent.pack(side=RIGHT, expand=YES, fill=X)\n",
        "    entries.append((field,ent))\n",
        "  return entries\n",
        "\n",
        "root=Tk()\n",
        "ents=makeform(root, fields)\n",
        "root.bind('<Return>', (lambda event, e=ents: fetch(e)))\n",
        "b1=Button(root,text='보여주기', command=(lambda e=ents: fetch(e)))\n",
        "b1.pack(side=LEFT, padx=5, pady=5)\n",
        "b2=Button(root, text='종료하기', command=root.quit)\n",
        "b2.pack(side=LEFT, padx=5, pady=5)\n",
        "root.mainloop()"
      ],
      "metadata": {
        "id": "66_LZPKuVwIx"
      },
      "execution_count": null,
      "outputs": []
    },
    {
      "cell_type": "markdown",
      "source": [
        "<pre> 6번 가위, 바위, 보 게임을 GUI 버전으로 작성해보자. 사용자의 선택은 왼쪽에 이미지로 표시한다. 컴퓨터의 선택은 오른쪽에 이미지로 표시한다. 사용자는 버튼을 눌러서 가위, 바위, 보 중에서 하나를 선택할 수 있다. 사용자의 선택이 끝나면 결과를 화면에 텍스트로 표시한다. "
      ],
      "metadata": {
        "id": "_LwW44Cxtk9H"
      }
    },
    {
      "cell_type": "code",
      "source": [
        "from random import*\n",
        "from tKinter import*\n",
        "\n",
        "#가위 바위 보 선택하는 부분\n",
        "\n",
        "def user_choice_rock():\n",
        "  user_choice=\"rock\"\n",
        "  turn(user_choice)\n",
        "  user_image.configure(image=rock_image)\n",
        "\n",
        "def user_choice_paper():\n",
        "  user_choice=\"paper\"\n",
        "  turn(user_choice)\n",
        "  user_image.configure(image=paper_image)\n",
        "\n",
        "def user_choice_scissors():\n",
        "  user_choice=\"scissors\"\n",
        "  turn(user_choice)\n",
        "  user_image.configure(image=scissors_image)\n",
        "\n",
        "#게임 부분\n",
        "\n",
        "def turn(user_choice):\n",
        "  oppo=['rock, paper, scissors']\n",
        "  oppo_choice=oppo[randint(0,2)]\n",
        "  if(oppo_choice=='rock'):\n",
        "    oppo_image.configure(image=rock_image)\n",
        "    if(user_choice=='paper'):\n",
        "      turn_result.configure(text=\"사용자 승!\", fg=\"green\")\n",
        "      compare.configure(text=\">>>>>\")\n",
        "    elif(user_choice=='scissors'):\n",
        "      turn_result.configure(text=\"컴퓨터 승!\", fg=\"red\")\n",
        "      compare.configure(text=\"<<<<<\")\n",
        "    else:\n",
        "      turn_result.configure(text=\"무승부\", fg=\"gray\")\n",
        "      compare.configure(text=\"=====\")\n",
        "    \n",
        "  elif(oppo_choice=='paper'):\n",
        "    oppo_image.configure(image=paper_image)\n",
        "    if(user_choice=='scissors'):\n",
        "      turn_result.configure(text=\"사용자 승!\", fg=\"green\")\n",
        "      compare.configure(text=\">>>>>\")\n",
        "    elif(user_choice=='rock'):\n",
        "      turn_result.configure(text=\"컴퓨터 승!\", fg=\"red\")\n",
        "      compare.configure(text=\"<<<<<\")\n",
        "    else:\n",
        "      turn_result.configure(text=\"무승부\", fg=\"gray\")\n",
        "      compare.configure(text=\"=====\")\n",
        "\n",
        "  elif(oppo_choice=='scissors'):\n",
        "    oppo_image.configure(image=scissors_image)\n",
        "    if(user_choice=='rock'):\n",
        "      turn_result.configure(text=\"사용자 승!\", fg=\"green\")\n",
        "      compare.configure(text=\">>>>>\")\n",
        "    elif(user_choice=='paper'):\n",
        "      turn_result.configure(text=\"컴퓨터 승!\", fg=\"red\")\n",
        "      compare.configure(text=\"<<<<<\")\n",
        "    else:\n",
        "      turn_result.configure(text=\"무승부\", fg=\"gray\")\n",
        "      compare.configure(text=\"=====\")\n",
        "\n",
        "#메인프로그램\n",
        "\n",
        "main_window=Tk()\n",
        "rock_button=Button(main_window, width=20, text=\"바위\", justify=CENTER, command=user_choice_rock, activebackground='black', activeforeground='whte')\n",
        "paper_button=Button(main_window, width=20, text=\"보\", justify=CENTER, command=user_choice_paper, activebackground='black', activeforeground='whte')\n",
        "scissors_button=Button(main_window, width=20, text=\"가위\", justify=CENTER, command=user_choice_scissors, activebackground='black', activeforeground='whte')\n",
        "\n",
        "rock_image=photoImage(file=\"d:/rock.gif\")\n",
        "paper_image=photoImage(file=\"d:/paper.gif\")\n",
        "scissors_image=photoImage(file=\"d:/scissors.gif\")\n",
        "\n",
        "user_image=Label(text=\"사용자\", image=rock-image)\n",
        "user_image.image=rock_image\n",
        "compare=Label(main_window, justify=CENTER, font=(\"Helvetica\", 30))\n",
        "oppo_image=Label(\"컴퓨터\",image=paper_image)\n",
        "oppo_image.image=paper_image\n",
        "turn_result=Label(main_window, width=20, justify=CENTER, font=(\"Helvetica\", 20))\n",
        "\n",
        "#그리드 생성\n",
        "rock_button.grid(row=5, column=1)\n",
        "paper_button.grid(row=5, column=2)\n",
        "scissors_button.grid(row=5, column=3)\n",
        "user_image.grid(row=3, column=1)\n",
        "compare.grid(row=3, column=2)\n",
        "oppo_image.grid(row=3, column=3)\n",
        "turn_result.grid(row=4, column=2)\n",
        "\n",
        "#GUI루프 처리\n",
        "main_window.mainloop()"
      ],
      "metadata": {
        "id": "RCdJkc-BVxYr"
      },
      "execution_count": null,
      "outputs": []
    }
  ]
}